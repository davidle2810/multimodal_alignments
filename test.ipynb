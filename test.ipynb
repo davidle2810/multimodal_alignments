{
 "cells": [
  {
   "cell_type": "code",
   "execution_count": 1,
   "metadata": {},
   "outputs": [
    {
     "name": "stderr",
     "output_type": "stream",
     "text": [
      "/home/davidle2810/anaconda3/envs/mm_align/lib/python3.10/site-packages/tqdm/auto.py:21: TqdmWarning: IProgress not found. Please update jupyter and ipywidgets. See https://ipywidgets.readthedocs.io/en/stable/user_install.html\n",
      "  from .autonotebook import tqdm as notebook_tqdm\n",
      "/home/davidle2810/anaconda3/envs/mm_align/lib/python3.10/site-packages/laserembeddings/encoder.py:70: FutureWarning: You are using `torch.load` with `weights_only=False` (the current default value), which uses the default pickle module implicitly. It is possible to construct malicious pickle data which will execute arbitrary code during unpickling (See https://github.com/pytorch/pytorch/blob/main/SECURITY.md#untrusted-models for more details). In a future release, the default value for `weights_only` will be flipped to `True`. This limits the functions that could be executed during unpickling. Arbitrary objects will no longer be allowed to be loaded via this mode unless they are explicitly allowlisted by the user via `torch.serialization.add_safe_globals`. We recommend you start setting `weights_only=True` for any use case where you don't have full control of the loaded file. Please open an issue on GitHub for any issues related to this experimental feature.\n",
      "  state_dict = torch.load(model_path)\n"
     ]
    }
   ],
   "source": [
    "import preprocessing.sinonom_pdf_helper as sn\n",
    "import preprocessing.vietnamese_pdf_helper as vn\n",
    "import preprocessing.translate_sn2vn\n",
    "import alignment\n",
    "import ocr_correction.corrector as crt\n",
    "import os\n",
    "import random\n",
    "import argparse\n",
    "from random import seed as seed\n",
    "from laserembeddings import Laser\n",
    "import numpy as np\n",
    "from sklearn.metrics.pairwise import cosine_similarity\n",
    "import re"
   ]
  },
  {
   "cell_type": "code",
   "execution_count": 2,
   "metadata": {},
   "outputs": [],
   "source": [
    "laser = Laser()"
   ]
  },
  {
   "cell_type": "code",
   "execution_count": 3,
   "metadata": {},
   "outputs": [],
   "source": [
    "sn_content = [{'page_number': 0, 'content': [{'bbox': [[3063, 933], [3356, 929], [3363, 2624], [3071, 2628]], 'content': '型敎要理目錄', 'transliteration': 'hình giáo yếu lý mục lục '}, {'bbox': [[2733, 1187], [2994, 1183], [3002, 2340], [2740, 2344]], 'content': '天主一體', 'transliteration': 'thiên chúa nhất thể '}, {'bbox': [[2840, 3293], [3044, 3289], [3052, 4161], [2844, 4165]], 'content': '見一張', 'transliteration': 'kiến nhất trương '}, {'bbox': [[2398, 1206], [2671, 1206], [2671, 2332], [2398, 2332]], 'content': '降生救世', 'transliteration': 'giáng sanh cứu thế '}, {'bbox': [[2514, 3289], [2698, 3285], [2706, 4146], [2521, 4150]], 'content': '見三張', 'transliteration': 'kiến tam trương '}, {'bbox': [[2179, 430], [2237, 430], [2237, 553], [2179, 553]], 'content': '4', 'transliteration': '4 '}, {'bbox': [[2056, 1206], [2318, 1202], [2333, 2324], [2068, 2328]], 'content': '死期有定', 'transliteration': 'tử kỳ hữu định '}, {'bbox': [[2156, 3293], [2356, 3289], [2368, 4176], [2168, 4180]], 'content': '見六張', 'transliteration': 'kiến lục trương '}, {'bbox': [[1722, 1198], [1999, 1195], [2006, 2324], [1733, 2328]], 'content': '人生罪種', 'transliteration': 'nhân sinh tội giống '}, {'bbox': [[1860, 3297], [2045, 3297], [2045, 4176], [1860, 4176]], 'content': '見八張', 'transliteration': 'kiến bát trương '}, {'bbox': [[1364, 1198], [1653, 1191], [1687, 2332], [1395, 2344]], 'content': '聖秘跡論', 'transliteration': 'thánh bí tích luận '}, {'bbox': [[1499, 3297], [1683, 3293], [1703, 4169], [1514, 4173]], 'content': '十一張', 'transliteration': 'thập nhất trương '}, {'bbox': [[1030, 1187], [1322, 1187], [1322, 2344], [1030, 2344]], 'content': '聖體解論', 'transliteration': 'thánh thể giải luận '}, {'bbox': [[1160, 3300], [1349, 3300], [1349, 4173], [1160, 4173]], 'content': '十四張', 'transliteration': 'thập tứ trương '}, {'bbox': [[672, 1183], [957, 1179], [964, 2336], [680, 2340]], 'content': '告解解論', 'transliteration': 'cáo giải giải luận '}, {'bbox': [[799, 3293], [984, 3297], [976, 4188], [795, 4184]], 'content': '十七張', 'transliteration': 'thập thất trương '}, {'bbox': [[453, 2805], [641, 2805], [641, 3262], [453, 3262]], 'content': '目鑠', 'transliteration': 'mục thước '}]}, {'page_number': 1, 'content': [{'bbox': [[3271, 1471], [3425, 1471], [3425, 1944], [3271, 1944]], 'content': '男王', 'transliteration': 'nam vương '}, {'bbox': [[2929, 1164], [3194, 1168], [3179, 2320], [2917, 2317]], 'content': '告明補贖', 'transliteration': 'cáo minh bổ chuộc '}, {'bbox': [[3029, 3247], [3213, 3247], [3213, 4100], [3029, 4100]], 'content': '廾一張', 'transliteration': 'chấp nhất trương '}, {'bbox': [[2556, 1145], [2863, 1148], [2863, 2286], [2556, 2286]], 'content': '終傅神品', 'transliteration': 'chung phó thần phẩm '}, {'bbox': [[2667, 3235], [2887, 3235], [2887, 4119], [2667, 4119]], 'content': '卅三張', 'transliteration': 'táp tam trương '}, {'bbox': [[2252, 1141], [2514, 1141], [2514, 2324], [2252, 2324]], 'content': '十誠解義', 'transliteration': 'thập thành giải nghĩa '}, {'bbox': [[2337, 3262], [2529, 3262], [2529, 4134], [2337, 4134]], 'content': '廾七張', 'transliteration': 'nhập thất trương '}, {'bbox': [[1983, 434], [2033, 434], [2033, 522], [1983, 522]], 'content': '4', 'transliteration': '4 '}, {'bbox': [[1891, 1114], [2183, 1114], [2183, 2320], [1891, 2320]], 'content': '㑹聖條律', 'transliteration': 'hội thánh điều luật '}, {'bbox': [[2025, 3266], [2214, 3273], [2179, 4073], [1991, 4065]], 'content': '三十八', 'transliteration': 'tam thập bát '}, {'bbox': [[1556, 1141], [1829, 1141], [1829, 2297], [1556, 2297]], 'content': '天主經解', 'transliteration': 'thiên chủ kinh giải '}, {'bbox': [[1653, 3277], [1852, 3277], [1852, 4115], [1653, 4115]], 'content': '三十九', 'transliteration': 'tam thập cửu '}, {'bbox': [[1230, 1137], [1503, 1137], [1503, 2301], [1230, 2301]], 'content': '聖母經解', 'transliteration': 'thánh mẫu kinh giải '}, {'bbox': [[1349, 3250], [1526, 3254], [1514, 4096], [1341, 4092]], 'content': '四十四', 'transliteration': 'tứ thập tứ '}, {'bbox': [[864, 1152], [1160, 1152], [1160, 2301], [864, 2301]], 'content': '正役敎友', 'transliteration': 'chính việc giáo hữu '}, {'bbox': [[991, 3254], [1199, 3254], [1199, 4130], [991, 4130]], 'content': '四十八', 'transliteration': 'tứ thập bát '}, {'bbox': [[499, 1141], [791, 1133], [830, 2851], [538, 2858]], 'content': '經畧逴禮五十', 'transliteration': 'kinh lược rước lễ ngũ thập '}, {'bbox': [[530, 3216], [807, 3216], [807, 4403], [530, 4403]], 'content': '經娄連禮', 'transliteration': 'kinh lâu liền lễ '}, {'bbox': [[665, 4442], [807, 4442], [807, 4714], [665, 4714]], 'content': '五十', 'transliteration': 'ngũ thập '}, {'bbox': [[511, 4457], [645, 4457], [645, 4591], [511, 4591]], 'content': '二', 'transliteration': 'nhị '}, {'bbox': [[518, 4730], [807, 4730], [807, 4980], [518, 4980]], 'content': '終', 'transliteration': 'chung'}]}]"
   ]
  },
  {
   "cell_type": "code",
   "execution_count": 4,
   "metadata": {},
   "outputs": [],
   "source": [
    "vn_content = [{'page_number': 0, 'content': 'lời giới thiệu\\nthánh giáo yếu lý quốc ngữ được xuất bản lần đầu vào năm 1774 tại trung quốc đến năm 1933 thánh giáo yếu lý quốc ngữ được tái bản lần cuối\\nthánh giáo yếu lý quốc ngữ được giới thiệu ở đây xuất bản năm 1837\\ntác giả của thánh giáo yếu lý quốc ngữ là đức cha pigneau de belhaine 17411799 viết bằng chữ nôm\\nnăm 1997 thánh giáo yếu lý quốc ngữ được nhóm dịch thuật hán nôm công giáo do cố linh mục vĩnh sơn nguyễn hưng phiên âm ghép trong quyển thánh giáo yếu lý và lưu hành nội bộ\\nnay được phép của đức giám mục gioan đỗ văn ngân chủ tịch ủy ban giáo lý đức tin ban từ vựng hán nôm công giáo do đức ông phêrô nguyễn chí thiết chủ biên và thầy michel nguyễn hạnh hiệu đính chú thích và sắp xếp lại bố cục mộc bản chữ nôm ở trang trái theo cột từ phải sang trái và bản phiên âm việt ở trang phải sắp xếp theo dòng tương ứng với cột ở trang trái theo hướng từ trên xuống dưới\\nnay kính\\nđức ông phêrô nguyễn chí thiết\\ntrưởng ban từ vựng hán nôm công giáo\\n'}, {'page_number': 1, 'content': 'thánh giáo yếu lý\\nmục lục\\nthiên chúa nhất thể\\ngiáng sinh cứu thế\\ntử kỳ hữu định\\nnhân sinh tội chủng\\nthánh bí tích luận\\nthánh thể giải luận\\ncáo giải giải luận\\n'}, {'page_number': 2, 'content': 'cáo minh bổ thục kiến nhất trang\\nchung truyền thần phẩm kiến tam trang\\nthập giới giải nghĩa kiến lục trang\\nhội thánh điều luật kiến bát trang\\nthiên chủ kinh giải thập nhất trang\\nthánh mẫu kinh giải thập tứ trang\\nchính dịch giáo hữu thập thất trang\\nkinh trước rước lễ ngũ thập kinh sau rước lễ ngũ thập nhị chung\\n'}]"
   ]
  },
  {
   "cell_type": "code",
   "execution_count": 5,
   "metadata": {},
   "outputs": [],
   "source": [
    "sn2vn_content = list()\n",
    "for page in sn_content:\n",
    "    sn2vn_content.append({'page_number': page['page_number'], 'content': '\\n'.join([line['transliteration'] for line in page['content']])})\n",
    "    # align paragraphs\n",
    "paragraph_alignments = alignment.paragraph_alignment(sn2vn_content,vn_content)"
   ]
  },
  {
   "cell_type": "code",
   "execution_count": 6,
   "metadata": {},
   "outputs": [
    {
     "name": "stdout",
     "output_type": "stream",
     "text": [
      "[{'source_page_number': 0, 'source_text': 'hình giáo yếu lý mục lục \\nthiên chúa nhất thể \\nkiến nhất trương \\ngiáng sanh cứu thế \\nkiến tam trương \\n4 \\ntử kỳ hữu định \\nkiến lục trương \\nnhân sinh tội giống \\nkiến bát trương \\nthánh bí tích luận \\nthập nhất trương \\nthánh thể giải luận \\nthập tứ trương \\ncáo giải giải luận \\nthập thất trương \\nmục thước ', 'target_page_number': 1, 'target_text': 'thánh giáo yếu lý\\nmục lục\\nthiên chúa nhất thể\\ngiáng sinh cứu thế\\ntử kỳ hữu định\\nnhân sinh tội chủng\\nthánh bí tích luận\\nthánh thể giải luận\\ncáo giải giải luận\\n', 'similarity_score': 0.8878879547119141}, {'source_page_number': 1, 'source_text': 'nam vương \\ncáo minh bổ chuộc \\nchấp nhất trương \\nchung phó thần phẩm \\ntáp tam trương \\nthập thành giải nghĩa \\nnhập thất trương \\n4 \\nhội thánh điều luật \\ntam thập bát \\nthiên chủ kinh giải \\ntam thập cửu \\nthánh mẫu kinh giải \\ntứ thập tứ \\nchính việc giáo hữu \\ntứ thập bát \\nkinh lược rước lễ ngũ thập \\nkinh lâu liền lễ \\nngũ thập \\nnhị \\nchung', 'target_page_number': 2, 'target_text': 'cáo minh bổ thục kiến nhất trang\\nchung truyền thần phẩm kiến tam trang\\nthập giới giải nghĩa kiến lục trang\\nhội thánh điều luật kiến bát trang\\nthiên chủ kinh giải thập nhất trang\\nthánh mẫu kinh giải thập tứ trang\\nchính dịch giáo hữu thập thất trang\\nkinh trước rước lễ ngũ thập kinh sau rước lễ ngũ thập nhị chung\\n', 'similarity_score': 0.9262756109237671}]\n"
     ]
    }
   ],
   "source": [
    "print(paragraph_alignments)\n"
   ]
  },
  {
   "cell_type": "code",
   "execution_count": 35,
   "metadata": {},
   "outputs": [
    {
     "name": "stdout",
     "output_type": "stream",
     "text": [
      "Running: ./align.sh\n"
     ]
    },
    {
     "name": "stderr",
     "output_type": "stream",
     "text": [
      "../../LASER/tasks/embed/embed.sh: 64: [[: not found\n"
     ]
    },
    {
     "name": "stdout",
     "output_type": "stream",
     "text": [
      "2025-01-18 14:41:39,295 | INFO | embed | spm_model: /mnt/d/LASER//laser2.spm\n",
      "2025-01-18 14:41:39,295 | INFO | embed | spm_cvocab: /mnt/d/LASER/laser2.cvocab\n",
      "2025-01-18 14:41:39,295 | INFO | embed | loading encoder: /mnt/d/LASER//laser2.pt\n"
     ]
    },
    {
     "name": "stderr",
     "output_type": "stream",
     "text": [
      "/mnt/d/LASER/laser_encoders/models.py:71: FutureWarning: You are using `torch.load` with `weights_only=False` (the current default value), which uses the default pickle module implicitly. It is possible to construct malicious pickle data which will execute arbitrary code during unpickling (See https://github.com/pytorch/pytorch/blob/main/SECURITY.md#untrusted-models for more details). In a future release, the default value for `weights_only` will be flipped to `True`. This limits the functions that could be executed during unpickling. Arbitrary objects will no longer be allowed to be loaded via this mode unless they are explicitly allowlisted by the user via `torch.serialization.add_safe_globals`. We recommend you start setting `weights_only=True` for any use case where you don't have full control of the loaded file. Please open an issue on GitHub for any issues related to this experimental feature.\n",
      "  state_dict = torch.load(model_path)\n"
     ]
    },
    {
     "name": "stdout",
     "output_type": "stream",
     "text": [
      "2025-01-18 14:41:40,821 | INFO | embed | transfer encoder to GPU\n",
      "2025-01-18 14:41:41,158 | INFO | preprocess | SPM processing overlaps.tr  \n",
      "2025-01-18 14:41:41,352 | INFO | embed | encoding /tmp/tmpxfzfo1da/spm to ../data/overlaps.tr.emb\n",
      "2025-01-18 14:41:41,613 | INFO | embed | encoded 141 sentences in 0s\n"
     ]
    },
    {
     "name": "stderr",
     "output_type": "stream",
     "text": [
      "../../LASER/tasks/embed/embed.sh: 64: [[: not found\n"
     ]
    },
    {
     "name": "stdout",
     "output_type": "stream",
     "text": [
      "2025-01-18 14:41:46,188 | INFO | embed | spm_model: /mnt/d/LASER//laser2.spm\n",
      "2025-01-18 14:41:46,188 | INFO | embed | spm_cvocab: /mnt/d/LASER/laser2.cvocab\n",
      "2025-01-18 14:41:46,188 | INFO | embed | loading encoder: /mnt/d/LASER//laser2.pt\n"
     ]
    },
    {
     "name": "stderr",
     "output_type": "stream",
     "text": [
      "/mnt/d/LASER/laser_encoders/models.py:71: FutureWarning: You are using `torch.load` with `weights_only=False` (the current default value), which uses the default pickle module implicitly. It is possible to construct malicious pickle data which will execute arbitrary code during unpickling (See https://github.com/pytorch/pytorch/blob/main/SECURITY.md#untrusted-models for more details). In a future release, the default value for `weights_only` will be flipped to `True`. This limits the functions that could be executed during unpickling. Arbitrary objects will no longer be allowed to be loaded via this mode unless they are explicitly allowlisted by the user via `torch.serialization.add_safe_globals`. We recommend you start setting `weights_only=True` for any use case where you don't have full control of the loaded file. Please open an issue on GitHub for any issues related to this experimental feature.\n",
      "  state_dict = torch.load(model_path)\n"
     ]
    },
    {
     "name": "stdout",
     "output_type": "stream",
     "text": [
      "2025-01-18 14:41:47,767 | INFO | embed | transfer encoder to GPU\n",
      "2025-01-18 14:41:48,051 | INFO | preprocess | SPM processing overlaps.vn  \n",
      "2025-01-18 14:41:48,264 | INFO | embed | encoding /tmp/tmprg70imdn/spm to ../data/overlaps.vn.emb\n",
      "2025-01-18 14:41:48,484 | INFO | embed | encoded 37 sentences in 0s\n",
      "告明補贖 ['correct:告', 'correct:明', 'correct:補', 'correct:贖', 'replace:廾->見', 'correct:一', 'correct:張']\n",
      "[<xlsxwriter.format.Format object at 0x7fc138afa890>, 'cáo ', <xlsxwriter.format.Format object at 0x7fc138afa890>, 'minh ', <xlsxwriter.format.Format object at 0x7fc138afa890>, 'bổ ', <xlsxwriter.format.Format object at 0x7fc138afa890>, 'thục ']\n",
      "廾一張 ['replace:廾->見', 'correct:一', 'correct:張']\n",
      "[<xlsxwriter.format.Format object at 0x7fc138afbe50>, 'kiến ', <xlsxwriter.format.Format object at 0x7fc138afa890>, 'nhất ', <xlsxwriter.format.Format object at 0x7fc138afa890>, 'trang ']\n",
      "終傅神品 ['correct:終', 'correct:傳', 'correct:神', 'correct:品', 'replace:卅->見', 'correct:三', 'correct:張']\n",
      "[<xlsxwriter.format.Format object at 0x7fc138afa890>, 'chung ', <xlsxwriter.format.Format object at 0x7fc138afa890>, 'truyền ', <xlsxwriter.format.Format object at 0x7fc138afa890>, 'thần ', <xlsxwriter.format.Format object at 0x7fc138afa890>, 'phẩm ']\n",
      "卅三張 ['replace:卅->見', 'correct:三', 'correct:張']\n",
      "[<xlsxwriter.format.Format object at 0x7fc138afbe50>, 'kiến ', <xlsxwriter.format.Format object at 0x7fc138afa890>, 'tam ', <xlsxwriter.format.Format object at 0x7fc138afa890>, 'trang ']\n",
      "十誠解義 ['correct:十', 'correct:誡', 'correct:解', 'replace:義->X', 'replace:廾->見', 'replace:七->绿', 'correct:張']\n",
      "[<xlsxwriter.format.Format object at 0x7fc138afa890>, 'thập ', <xlsxwriter.format.Format object at 0x7fc138afa890>, 'giới ', <xlsxwriter.format.Format object at 0x7fc138afa890>, 'giải ', <xlsxwriter.format.Format object at 0x7fc138afbe50>, 'nghĩa ']\n",
      "廾七張 ['replace:廾->見', 'replace:七->绿', 'correct:張']\n",
      "[<xlsxwriter.format.Format object at 0x7fc138afbe50>, 'kiến ', <xlsxwriter.format.Format object at 0x7fc138afbe50>, 'lục ', <xlsxwriter.format.Format object at 0x7fc138afa890>, 'trang ']\n",
      "㑹聖條律 ['replace:㑹->聵', 'correct:聖', 'correct:條', 'correct:律', 'replace:三->見', 'delete:十', 'correct:八', 'insert:妝']\n",
      "[<xlsxwriter.format.Format object at 0x7fc138afbe50>, 'hội ', <xlsxwriter.format.Format object at 0x7fc138afa890>, 'thánh ', <xlsxwriter.format.Format object at 0x7fc138afa890>, 'điều ', <xlsxwriter.format.Format object at 0x7fc138afa890>, 'luật ']\n",
      "三十八 ['replace:三->見', 'delete:十', 'correct:八', 'insert:妝']\n",
      "[<xlsxwriter.format.Format object at 0x7fc138afbe50>, 'kiến ', <xlsxwriter.format.Format object at 0x7fc138afa890>, 'bát ']\n",
      "天主經解 ['correct:天', 'correct:主', 'correct:經', 'correct:解', 'replace:三->\\U000f01e4', 'correct:一', 'replace:九->妝']\n",
      "[<xlsxwriter.format.Format object at 0x7fc138afa890>, 'thiên ', <xlsxwriter.format.Format object at 0x7fc138afa890>, 'chủ ', <xlsxwriter.format.Format object at 0x7fc138afa890>, 'kinh ', <xlsxwriter.format.Format object at 0x7fc138afa890>, 'giải ']\n",
      "三十九 ['replace:三->\\U000f01e4', 'correct:一', 'replace:九->妝']\n",
      "[<xlsxwriter.format.Format object at 0x7fc138afbe50>, 'thập ', <xlsxwriter.format.Format object at 0x7fc138afa890>, 'nhất ', <xlsxwriter.format.Format object at 0x7fc138afbe50>, 'trang ']\n",
      "聖母經解 ['correct:聖', 'correct:母', 'correct:經', 'correct:解', 'delete:四', 'correct:十', 'correct:四', 'insert:妝']\n",
      "[<xlsxwriter.format.Format object at 0x7fc138afa890>, 'thánh ', <xlsxwriter.format.Format object at 0x7fc138afa890>, 'mẫu ', <xlsxwriter.format.Format object at 0x7fc138afa890>, 'kinh ', <xlsxwriter.format.Format object at 0x7fc138afa890>, 'giải ']\n",
      "四十四 ['delete:四', 'correct:十', 'correct:四', 'insert:妝']\n",
      "[<xlsxwriter.format.Format object at 0x7fc138afa890>, 'thập ', <xlsxwriter.format.Format object at 0x7fc138afa890>, 'tứ ']\n",
      "正役敎友 ['correct:正', 'correct:役', 'correct:敎', 'correct:友', 'insert:\\U000f01e4', 'correct:匹', 'replace:十->妝', 'delete:八']\n",
      "[<xlsxwriter.format.Format object at 0x7fc138afa890>, 'chính ', <xlsxwriter.format.Format object at 0x7fc138afa890>, 'dịch ', <xlsxwriter.format.Format object at 0x7fc138afa890>, 'giáo ', <xlsxwriter.format.Format object at 0x7fc138afa890>, 'hữu ']\n",
      "四十八 ['insert:\\U000f01e4', 'correct:匹', 'replace:十->妝', 'delete:八']\n",
      "[<xlsxwriter.format.Format object at 0x7fc138af8e20>, 'thập ', <xlsxwriter.format.Format object at 0x7fc138afa890>, 'thất ', <xlsxwriter.format.Format object at 0x7fc138afbe50>, 'trang ']\n",
      "經畧逴禮五十 ['correct:經', 'correct:畧', 'correct:逴', 'correct:禮', 'correct:五', 'correct:十', 'correct:經', 'replace:娄->差', 'correct:逴', 'correct:禮', 'correct:五', 'correct:十', 'correct:二', 'correct:終']\n",
      "[<xlsxwriter.format.Format object at 0x7fc138afa890>, 'kinh ', <xlsxwriter.format.Format object at 0x7fc138afa890>, 'trước ', <xlsxwriter.format.Format object at 0x7fc138afa890>, 'rước ', <xlsxwriter.format.Format object at 0x7fc138afa890>, 'lễ ', <xlsxwriter.format.Format object at 0x7fc138afa890>, 'ngũ ', <xlsxwriter.format.Format object at 0x7fc138afa890>, 'thập ']\n",
      "經娄連禮 ['correct:經', 'replace:娄->差', 'correct:逴', 'correct:禮', 'correct:五', 'correct:十', 'correct:二', 'correct:終']\n",
      "[<xlsxwriter.format.Format object at 0x7fc138afa890>, 'kinh ', <xlsxwriter.format.Format object at 0x7fc138afbe50>, 'sau ', <xlsxwriter.format.Format object at 0x7fc138afa890>, 'rước ', <xlsxwriter.format.Format object at 0x7fc138afa890>, 'lễ ']\n",
      "五十 ['correct:五', 'correct:十', 'correct:二', 'correct:終']\n",
      "[<xlsxwriter.format.Format object at 0x7fc138afa890>, 'ngũ ', <xlsxwriter.format.Format object at 0x7fc138afa890>, 'thập ']\n",
      "二 ['correct:二', 'correct:終']\n",
      "[<xlsxwriter.format.Format object at 0x7fc138afa890>, 'nhị ']\n",
      "終 ['correct:終']\n",
      "[<xlsxwriter.format.Format object at 0x7fc138afa890>, 'chung ']\n"
     ]
    },
    {
     "name": "stderr",
     "output_type": "stream",
     "text": [
      "/home/davidle2810/anaconda3/envs/mm_align/lib/python3.10/site-packages/xlsxwriter/worksheet.py:1344: UserWarning: You must specify more than 2 format/fragments for rich strings. Ignoring input in write_rich_string().\n",
      "  warn(\n"
     ]
    }
   ],
   "source": [
    "import pandas as pd\n",
    "from xlsxwriter.workbook import Workbook\n",
    "result = list()\n",
    "with Workbook(f\"sample_output.xlsx\") as workbook:\n",
    "    worksheet   = workbook.add_worksheet(f\"Result\")\n",
    "    font_format = workbook.add_format({'font_name': 'Nom Na Tong'})\n",
    "    red         = workbook.add_format({'color': 'red', 'font_name': 'Nom Na Tong'})\n",
    "    yellow      = workbook.add_format({'color': 'yellow', 'font_name': 'Nom Na Tong'})\n",
    "    blue        = workbook.add_format({'color': 'blue', 'font_name': 'Nom Na Tong'})\n",
    "    green       = workbook.add_format({'color': 'green', 'font_name': 'Nom Na Tong'})\n",
    "    black       = workbook.add_format({'color': 'black', 'font_name': 'Nom Na Tong'})\n",
    "    worksheet.write(0, 0, 'page_id', font_format)\n",
    "    worksheet.write(0, 1, 'bbox', font_format)\n",
    "    worksheet.write(0, 2, 'ocr', font_format)\n",
    "    worksheet.write(0, 3, 'correction', font_format)\n",
    "    worksheet.write(0, 4, 'nom', font_format)\n",
    "    row = 1\n",
    "    for idx, alignment in enumerate(paragraph_alignments[1:]):\n",
    "        src_id = alignment['source_page_number']\n",
    "        tgt_id = alignment['target_page_number']\n",
    "        path_temp_file_sn2vn = os.path.join('data', \"test.tr\")\n",
    "        path_temp_file_vn = os.path.join('data', \"test.vn\")\n",
    "        with open(path_temp_file_sn2vn, \"w\", encoding=\"utf-8\") as f:\n",
    "            f.write(sn2vn_content[src_id]['content'])\n",
    "        with open(path_temp_file_vn, \"w\", encoding=\"utf-8\") as f:\n",
    "            f.write(vn_content[tgt_id]['content'])\n",
    "        os.chdir('./sentence_alignments')\n",
    "        script = './align.sh' \n",
    "        print(f\"Running: {script}\")\n",
    "        os.system(script)\n",
    "        os.chdir('../')\n",
    "        with open('data/output.txt','r',encoding='utf-8') as f:\n",
    "            alignments=''.join(f.readlines()).split('\\n')\n",
    "        src_lines = [(line['bbox'],line['content']) for line in sn_content[src_id]['content']]\n",
    "        tgt_lines = vn_content[tgt_id]['content'].split('\\n')\n",
    "        for i in range(len(alignments)-1):\n",
    "            x = eval(alignments[i].split(':')[0])\n",
    "            y = eval(alignments[i].split(':')[1])\n",
    "            if len(x)>0 and len(y)>0:\n",
    "                src_line = [(src_lines[j][0],src_lines[j][1]) for j in x]\n",
    "                tgt_line = ' '.join([tgt_lines[j] for j in y]).split(' ')\n",
    "                nom_line = ''.join([line[1] for line in src_line])\n",
    "                corrected_list=crt.correct(nom_line,tgt_line)\n",
    "                vie_list = tgt_line.copy()\n",
    "                for chunk in src_line:\n",
    "                    page_id = src_id\n",
    "                    bbox = chunk[0]\n",
    "                    nom = ''\n",
    "                    corrected_nom = ''\n",
    "                    vie = '' \n",
    "                    nom_list = list(chunk[1])\n",
    "                    ocrs = []\n",
    "                    corrs = []\n",
    "                    qns = []\n",
    "                    print(chunk[1],corrected_list)\n",
    "                    while len(nom_list)>0:\n",
    "                        if corrected_list[0].startswith('correct:'):\n",
    "                            nom=nom+nom_list[0]\n",
    "                            corrected_nom=corrected_nom+corrected_list[0].split(':')[1]\n",
    "                            vie = vie + vie_list[0] + ' '\n",
    "                            ocrs.extend((black, nom_list[0]))\n",
    "                            corrs.extend((black, corrected_list[0].split(':')[1]))\n",
    "                            qns.extend((black, vie_list[0] + ' '))\n",
    "                            nom_list.pop(0)\n",
    "                            vie_list.pop(0)\n",
    "                        elif corrected_list[0].startswith('replace:'):\n",
    "                            nom=nom+nom_list[0]\n",
    "                            corrected_nom=corrected_nom+corrected_list[0].split(':')[1][-1]\n",
    "                            vie = vie + vie_list[0] + ' '\n",
    "                            ocrs.extend((green, nom_list[0]))\n",
    "                            corrs.extend((green, corrected_list[0].split(':')[1][-1]))\n",
    "                            qns.extend((green, vie_list[0] + ' '))\n",
    "                            nom_list.pop(0)\n",
    "                            vie_list.pop(0)\n",
    "                        elif corrected_list[0].startswith('delete:'):\n",
    "                            nom=nom+nom_list[0]\n",
    "                            corrected_nom=corrected_nom+' '\n",
    "                            vie = vie + ''\n",
    "                            ocrs.extend((red, nom_list[0]))\n",
    "                            nom_list.pop(0)\n",
    "                        elif corrected_list[0].startswith('insert:'):\n",
    "                            nom=nom+' '\n",
    "                            corrected_nom=corrected_nom+corrected_list[0].split(':')[1]\n",
    "                            vie = vie + vie_list[0] + ' '\n",
    "                            corrs.extend((blue, corrected_list[0].split(':')[1]))\n",
    "                            qns.extend((blue, vie_list[0] + ' '))\n",
    "                            vie_list.pop(0)\n",
    "                        corrected_list.pop(0)\n",
    "                    result.append([page_id,bbox,nom,corrected_nom,vie])\n",
    "                    worksheet.write(row, 0, page_id, font_format)\n",
    "                    worksheet.write(row, 1, str(bbox), font_format)\n",
    "                    worksheet.write_rich_string(row, 2, *ocrs)\n",
    "                    worksheet.write_rich_string(row, 3, *corrs)\n",
    "                    worksheet.write_rich_string(row, 4, *qns)\n",
    "                    row =  row+1"
   ]
  },
  {
   "cell_type": "code",
   "execution_count": 8,
   "metadata": {},
   "outputs": [
    {
     "name": "stdout",
     "output_type": "stream",
     "text": [
      "十誡解義廾七張\n"
     ]
    }
   ],
   "source": [
    "src_line='十誠解義廾七張'\n",
    "tgt_line='thập giới giải nghĩa kiến lục trang'\n",
    "print(crt.normalize_correction(crt.correct(src_line,tgt_line.split(' '))))"
   ]
  },
  {
   "cell_type": "code",
   "execution_count": 30,
   "metadata": {},
   "outputs": [
    {
     "data": {
      "text/plain": [
       "[[1,\n",
       "  [[2929, 1164], [3194, 1168], [3179, 2320], [2917, 2317]],\n",
       "  '告明補贖',\n",
       "  '告明補贖',\n",
       "  'cáo minh bổ thục '],\n",
       " [1,\n",
       "  [[3029, 3247], [3213, 3247], [3213, 4100], [3029, 4100]],\n",
       "  '廾一張',\n",
       "  '見一張',\n",
       "  'kiến nhất trang '],\n",
       " [1,\n",
       "  [[2556, 1145], [2863, 1148], [2863, 2286], [2556, 2286]],\n",
       "  '終傅神品',\n",
       "  '終傳神品',\n",
       "  'chung truyền thần phẩm '],\n",
       " [1,\n",
       "  [[2667, 3235], [2887, 3235], [2887, 4119], [2667, 4119]],\n",
       "  '卅三張',\n",
       "  '見三張',\n",
       "  'kiến tam trang '],\n",
       " [1,\n",
       "  [[2252, 1141], [2514, 1141], [2514, 2324], [2252, 2324]],\n",
       "  '十誠解義',\n",
       "  '十誡解X',\n",
       "  'thập giới giải nghĩa '],\n",
       " [1,\n",
       "  [[2337, 3262], [2529, 3262], [2529, 4134], [2337, 4134]],\n",
       "  '廾七張',\n",
       "  '見绿張',\n",
       "  'kiến lục trang '],\n",
       " [1,\n",
       "  [[1891, 1114], [2183, 1114], [2183, 2320], [1891, 2320]],\n",
       "  '㑹聖條律',\n",
       "  '聵聖條律',\n",
       "  'hội thánh điều luật '],\n",
       " [1,\n",
       "  [[2025, 3266], [2214, 3273], [2179, 4073], [1991, 4065]],\n",
       "  '三十八',\n",
       "  '見 八',\n",
       "  'kiến bát '],\n",
       " [1,\n",
       "  [[1556, 1141], [1829, 1141], [1829, 2297], [1556, 2297]],\n",
       "  '天主經解',\n",
       "  '天主經解',\n",
       "  'thiên chủ kinh giải '],\n",
       " [1,\n",
       "  [[1653, 3277], [1852, 3277], [1852, 4115], [1653, 4115]],\n",
       "  '三十九',\n",
       "  '\\U000f01e4一妝',\n",
       "  'thập nhất trang '],\n",
       " [1,\n",
       "  [[1230, 1137], [1503, 1137], [1503, 2301], [1230, 2301]],\n",
       "  '聖母經解',\n",
       "  '聖母經解',\n",
       "  'thánh mẫu kinh giải '],\n",
       " [1,\n",
       "  [[1349, 3250], [1526, 3254], [1514, 4096], [1341, 4092]],\n",
       "  '四十四',\n",
       "  ' 十四',\n",
       "  'thập tứ '],\n",
       " [1,\n",
       "  [[864, 1152], [1160, 1152], [1160, 2301], [864, 2301]],\n",
       "  '正役敎友',\n",
       "  '正役敎友',\n",
       "  'chính dịch giáo hữu '],\n",
       " [1,\n",
       "  [[991, 3254], [1199, 3254], [1199, 4130], [991, 4130]],\n",
       "  ' 四十八',\n",
       "  '\\U000f01e4匹妝 ',\n",
       "  'thập thất trang '],\n",
       " [1,\n",
       "  [[499, 1141], [791, 1133], [830, 2851], [538, 2858]],\n",
       "  '經畧逴禮五十',\n",
       "  '經畧逴禮五十',\n",
       "  'kinh trước rước lễ ngũ thập '],\n",
       " [1,\n",
       "  [[530, 3216], [807, 3216], [807, 4403], [530, 4403]],\n",
       "  '經娄連禮',\n",
       "  '經差逴禮',\n",
       "  'kinh sau rước lễ '],\n",
       " [1,\n",
       "  [[665, 4442], [807, 4442], [807, 4714], [665, 4714]],\n",
       "  '五十',\n",
       "  '五十',\n",
       "  'ngũ thập '],\n",
       " [1, [[511, 4457], [645, 4457], [645, 4591], [511, 4591]], '二', '二', 'nhị '],\n",
       " [1, [[518, 4730], [807, 4730], [807, 4980], [518, 4980]], '終', '終', 'chung ']]"
      ]
     },
     "execution_count": 30,
     "metadata": {},
     "output_type": "execute_result"
    }
   ],
   "source": [
    "result"
   ]
  }
 ],
 "metadata": {
  "kernelspec": {
   "display_name": "mm_align",
   "language": "python",
   "name": "python3"
  },
  "language_info": {
   "codemirror_mode": {
    "name": "ipython",
    "version": 3
   },
   "file_extension": ".py",
   "mimetype": "text/x-python",
   "name": "python",
   "nbconvert_exporter": "python",
   "pygments_lexer": "ipython3",
   "version": "3.10.16"
  }
 },
 "nbformat": 4,
 "nbformat_minor": 2
}
