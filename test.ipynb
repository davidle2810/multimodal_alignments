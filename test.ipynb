{
 "cells": [
  {
   "cell_type": "code",
   "execution_count": 149,
   "metadata": {},
   "outputs": [],
   "source": [
    "import cv2\n",
    "def enhance_image(image):\n",
    "    gray_image = cv2.cvtColor(image, cv2.COLOR_BGR2GRAY)\n",
    "    _, bw_image = cv2.threshold(gray_image, 127, 255, cv2.THRESH_BINARY_INV)\n",
    "    blurred_image = cv2.medianBlur(bw_image, 1)\n",
    "    #normalized_image = cv2.normalize(blurred_image, None, alpha=0, beta=255, norm_type=cv2.NORM_MINMAX)\n",
    "    \n",
    "    enhanced_image = cv2.equalizeHist(blurred_image)\n",
    "    #threshold_image = cv2.adaptiveThreshold(enhanced_image, 255, cv2.ADAPTIVE_THRESH_GAUSSIAN_C, cv2.THRESH_BINARY, 51, 2)\n",
    "    \n",
    "    kernel = cv2.getStructuringElement(cv2.MORPH_RECT, (2,2))\n",
    "    dilation = cv2.dilate(enhanced_image,kernel,iterations = 1)\n",
    "    denoised = cv2.morphologyEx(dilation, cv2.MORPH_CLOSE, kernel)\n",
    "    inverted_image = cv2.bitwise_not(bw_image)\n",
    "    return inverted_image"
   ]
  },
  {
   "cell_type": "code",
   "execution_count": 150,
   "metadata": {},
   "outputs": [
    {
     "data": {
      "text/plain": [
       "True"
      ]
     },
     "execution_count": 150,
     "metadata": {},
     "output_type": "execute_result"
    }
   ],
   "source": [
    "from PIL import Image\n",
    "import numpy as np\n",
    "# Open an image using Pillow\n",
    "image_path = 'test_3.png'\n",
    "image = Image.open(image_path)\n",
    "open_cv_image = np.array(image)\n",
    "open_cv_image = cv2.cvtColor(open_cv_image, cv2.COLOR_RGB2BGR)  # Convert to BGR format\n",
    "enhanced_page = enhance_image(open_cv_image)\n",
    "cv2.imwrite('test_2_enhance.png', enhanced_page)"
   ]
  },
  {
   "cell_type": "code",
   "execution_count": 151,
   "metadata": {},
   "outputs": [
    {
     "name": "stdout",
     "output_type": "stream",
     "text": [
      "-26 -\n",
      "rau cỏ ấy bởi phép Đức Chúa Trời khiến, thì có hụ quả có hạt, sinh ra cây cối rau cỏ khác về giống nó, Có\n",
      "Ngày thứ bốn, Đức Chúa Trời dựng nên mặt trời mặt trăng cùng các ngôi sao. Mặt trời soi Sắng ban ngày. Mặt trăng Cùng các ngôi sao soi Sáng ban đêm, ˆ xây đi vần lại mà phân ra bốn mùa cùng năm tháng ngày giờ,\n",
      "Ngày thứ năm, Đức Chúa Trời dựng nên các giống tôm cá dưới HưỚC, cùng các giống chỉm chúc bay trên không, và khiến các giống ấy sinh sân ra nhiều, giống nào sinh giống ấy. `\n",
      "Ngày thứ sấu, Đức Chúa Trời dựng nên các giống lục súc trên mặt đất, cùng dạy loài nào phải sinh sẵn ra mà giữ giống loài ấy. Đức Chúa Trời dựng nên Ông A-dong cùng bà E-và Cũng một năm ấy. Cũng một ngày thứ sáu, khi Đức Chúa Trời đã dựng nên trời dất 1nuôn vật đoạn, thì Người mới dựng nên loài người”\n",
      "(341)\n",
      "27-\n",
      "40)\n",
      "tạ để mà cai trị các giống các vật ở trên mặt đất này. Người lấy đất mà nặn, làm nên hình tượng xác người nam. Đoạn bởi không, dựng nên một linh hồn giống như ảnh tượng Người, có tính thiêng liêng, hằng sống đời đời, hay suy xét, cùng biết tội phúc, hay kính mến Đức Chúa Trời, liền phó vào xác ấy, và đặt tên là A- dong, nghĩa là người bởi đất mà ra. Đoạn Đức Chúa Trời phán rằng : Người nam ở một mình chẳng hay, Ta hãy sinh ra kể giúp nó. Vì vậy đang khi ông A-dong ngủ, thì Đức Chúa Trời lấy xương sườn cụt ông ấy® mà làm hình tượng xác người nữ, đoạn cũng bởi không, dựng nên một linh hồn, phó vào xác ấy và cho làm bạn với ông A-dong để mà sinh sản ra loài người ta, cùng đặt tên là E- và,\n",
      "Khi ông A-dong thấy bạn Đức Chúa Trời đã dựng nên chọ mình, liễn nói rằng : Này là xương thịt ta Y. Khi ấy bai ông bà, về phân xác thì khoẻ mạnh, chẳng phải lọ buôn, chẳng phải tật nguyễn ; về phần lĩnh hôn tị công chính, có nghĩa cùng Đức Chúa Trời, nh lòng kính mến Người và có tí khôn sáng láng, biết Thiểu lẽ, Đức Chúa Trời\n",
      "vì đ)1f710) 3 ClàiVAMVI1\n"
     ]
    }
   ],
   "source": [
    "from unstructured.partition.auto import partition\n",
    "elements = partition('test_2_enhance.png', languages=['vie'])  # 'vie' is for Vietnamese\n",
    "print(\"\\n\".join([str(el) for el in elements]))"
   ]
  }
 ],
 "metadata": {
  "kernelspec": {
   "display_name": "multimodal_alignments",
   "language": "python",
   "name": "python3"
  },
  "language_info": {
   "codemirror_mode": {
    "name": "ipython",
    "version": 3
   },
   "file_extension": ".py",
   "mimetype": "text/x-python",
   "name": "python",
   "nbconvert_exporter": "python",
   "pygments_lexer": "ipython3",
   "version": "3.12.2"
  }
 },
 "nbformat": 4,
 "nbformat_minor": 2
}
