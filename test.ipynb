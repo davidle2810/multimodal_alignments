{
 "cells": [
  {
   "cell_type": "code",
   "execution_count": 5,
   "metadata": {},
   "outputs": [],
   "source": [
    "import preprocessing.sinonom_pdf_helper as sn\n",
    "import preprocessing.vietnamese_pdf_helper as vn\n",
    "import preprocessing.translate_sn2vn\n",
    "import alignment\n",
    "import ocr_correction.corrector as crt\n",
    "import os\n",
    "import random\n",
    "import argparse\n",
    "from random import seed as seed\n",
    "from laserembeddings import Laser\n",
    "import numpy as np\n",
    "from sklearn.metrics.pairwise import cosine_similarity"
   ]
  },
  {
   "cell_type": "code",
   "execution_count": 6,
   "metadata": {},
   "outputs": [],
   "source": [
    "laser = Laser()"
   ]
  },
  {
   "cell_type": "code",
   "execution_count": 7,
   "metadata": {},
   "outputs": [],
   "source": [
    "sn_content = [{'page_number': 10, 'content': [{'bbox': [[3220, 4184], [3375, 4184], [3375, 4672], [3220, 4672]], 'content': '百卄六', 'transliteration': 'bách niệm lục '}, {'bbox': [[2740, 963], [2910, 960], [2929, 4876], [2759, 4879]], 'content': '碎德主吞於代尼朱時徽特蓮天堂晦德主吞固氽嵬', 'transliteration': 'tôi đức chúa thôn ở đời này cho thời huy được lên thiên đường hối đức chúa thôn có mấy ngôi '}, {'bbox': [[2509, 1001], [2676, 997], [2698, 5031], [2532, 5034]], 'content': '疎德主吞固巴嵬嵬壹羅吒嵬台羅昆嵬巴羅聖神一晦嵬', 'transliteration': 'thưa đức chúa thôn có ba ngùi ngùi nhất là cha ngôi thay là con ngôi ba là thánh thần nhất hối ngôi '}, {'bbox': [[2283, 963], [2449, 960], [2457, 5023], [2286, 5027]], 'content': '壹羅吒固沛德主吞庄疎沛晦嵬年羅昆固沛德主吞', 'transliteration': 'nhất là cha có phải đức chúa thôn trang thơ phải hối ngôi niên là con có phải đức chúa thôn '}, {'bbox': [[2033, 963], [2203, 960], [2215, 5027], [2048, 5031]], 'content': '庄疎沛晦嵬巴羅聖神固沛德主吞庄疎沛晦裊', 'transliteration': 'chẳng thưa phải hối ngôi ba là thánh thần có phải đức chúa thôn trang thơ phải hối nẻo '}, {'bbox': [[1791, 960], [1961, 960], [1961, 5034], [1791, 5034]], 'content': '丕固沛巴德主坖庄疎庄固爲世嵬拱沒性沒法丕固沒', 'transliteration': 'vậy có phải ba đức chúa 坖 chẳng thưa chẳng có vì thế ngôi cũng một tính một pháp vậy có một '}, {'bbox': [[1557, 956], [1719, 956], [1719, 1814], [1557, 1814]], 'content': '德主吞麻崔', 'transliteration': 'đức chúa thôn mà thôi '}, {'bbox': [[1145, 2120], [1402, 2120], [1402, 3020], [1145, 3020]], 'content': '段次合', 'transliteration': 'đoạn thứ hợp '}, {'bbox': [[827, 5023], [835, 986], [1005, 990], [994, 5027]], 'content': '晦敵巴嵬固嵬芾岍代庄一疎嵬次的崢代濫得固壳固靈', 'transliteration': 'hối địch ba ngôi có ngôi nào khiên đời chẳng nhất thưa ngôi thứ đích tranh đời làm được có xác có linh '}, {'bbox': [[548, 5016], [563, 956], [729, 960], [714, 5019]], 'content': '魂如些丕一晦嵬次台岼代祕壳吧靈魂於兠一疎祕壳吧', 'transliteration': 'hồn như ta vậy nhất hối ngôi thứ thay 岼 đời bí xác và linh hồn ở đâu nhất thơ bí xác và '}]}, {'page_number': 11, 'content': [{'bbox': [[2910, 1908], [3171, 1908], [3171, 3466], [2910, 3466]], 'content': '本玳仍祕昆', 'transliteration': 'bản đồi những bí con '}, {'bbox': [[2543, 2218], [2789, 2218], [2789, 3129], [2543, 3129]], 'content': '段次壹', 'transliteration': 'đoạn thứ nhất '}, {'bbox': [[2264, 956], [2434, 956], [2434, 5053], [2264, 5053]], 'content': '晦德主坴羅等芾疎德主至羅等孕年吞坦閉物共恒僵', 'transliteration': 'hối đức chúa lục là đấng nào thưa đức chúa chí là đứng dựng niên thôn đất bấy vật cùng hằng cương '}, {'bbox': [[2014, 918], [2184, 918], [2184, 4868], [2014, 4868]], 'content': '件該治每事晦固殼德主埀庄疎固沒德主至麻崔', 'transliteration': 'kiện cai trị mọi sự hối có xác đức chúa 埀 chẳng thưa có một đức chúa chí mà thôi '}, {'bbox': [[1765, 5050], [1765, 956], [1939, 956], [1939, 5050]], 'content': '晦德主吞於兠疎德主吞於運吞酃坦於泣每坭晦德', 'transliteration': 'hối đức chúa thôn ở đâu thưa đức chúa thôn ở vận thôn linh đất ở khắp mọi nơi hối đức '}, {'bbox': [[1515, 918], [1689, 914], [1693, 5031], [1523, 5034]], 'content': '主蚕於泣每坭牢低些祜庄筧疎爲德主季羅性聲靈朱', 'transliteration': 'chúa tằm ở khắp mọi nơi sao đây ta hỗ chẳng kiển thưa vì đức chúa quý là tính thanh linh cho '}, {'bbox': [[1270, 922], [1443, 918], [1447, 5050], [1277, 5053]], 'content': '年昆相餂些祜庄賃晦固欺芮麻庄固德主吞庄疎德', 'transliteration': 'niên con tương điềm ta hỗ chẳng nhấm hối có khi nuôi mà chẳng có đức chúa thôn chẳng thưa đức '}, {'bbox': [[1028, 914], [1202, 910], [1213, 5038], [1039, 5042]], 'content': '主岙恒固畧撥無窮庄固包賖麻庄固德主坖晦德主吞', 'transliteration': 'chúa diệu hằng có lược bát vô cùng chẳng có bao xa mà chẳng có đức chúa 坖 hối đức chúa thôn '}, {'bbox': [[778, 918], [948, 914], [960, 5046], [793, 5050]], 'content': '孕年類得些固意芾疎固意朱得些別吧祿奉敬勉共濫', 'transliteration': 'dựng nên loài đắc ta có ý nào thơ có ý cho được ta biết và lộc phụng kính mến cùng làm '}, {'bbox': [[328, 1330], [483, 1330], [483, 2109], [328, 2109]], 'content': '聖教要理', 'transliteration': 'thánh giáo yếu lý '}, {'bbox': [[340, 4154], [487, 4154], [487, 4645], [340, 4645]], 'content': '百卄五', 'transliteration': 'bách nhập ngũ '}]}]\n",
    "vn_content = [{'page_number': 1, 'content': '— BỒN DẠY NHỮNG TRE CON.!\\n\\nĐOAN THỨ NHẤT\\n\\nHỏi. Đức Chúa Trời là Đấng nào? Thưa. Đức Chúa Trời là Đấng dựng nên trời đất muôn vật cùng hãng gìn giữ cai trị mọi sự. Hỏi. Có nhiều Đức Chúa Trời chăng? Thưa. Có một Đức Chúa Trời mà thôi.\\nHỏi. Đức Chúa Trời ở đâu? Thưa. Đức Chúa Trời ở trên trời dưới đất ở khắp mọi nơi. Hỏi. Đức Chúa Trời ở khắp mọi nơi sao đây ta xem chăng thấy? Thưa. Vì Đức Chúa Trời là tính thiêng liêng cho nên con mắt thịt ta xem chăng thấy. Hỏi. Có khi nào mà chắng có Đức Chúa Trời chăng? Thưa. Đức Chúa Trời hằng có trước sau vô cùng, chăng có bao giờ mà chăng có Đức Chúa Trời. Hỏi. Đức Chúa Trời dựng nên loài người ta có ý nào? Thưa. Có ý cho người ta biết và thò! phượng kính mến cùng làm.\\n\\nTHÁNH GIÁO YỂU LÝ - bách chập ngũ (125) \\n\\n1. Trích Thánh Giáo Yếu Lý, Kẻ Sở, 1933 - bản phiên âm của Nhóm Phiên Dịch Thuật Hán Nôm Công Giáo,  Lm. Vĩnh Sơn Nguyên Hưng chủ biên. 2. Chữ øìn trong mộc bản là chữ nhân + chữ gìn.\\n3. Chữ xem trong mộc bản là bộ kỳ + chữ xem. Đúng ra là bộ + chữ xem.\\n4. Chữ fhờ trong mộc bản là kỳ (thần) + (tôi, ta). Vì thiếu nên tạm dùng chữ fhờ  bộ (sâu bọ) + (tôi, ta).\\n'}, {'page_number': 2, 'content': 'Hỏi. Đức Chúa Trời ở đời này, cho ngày sau được lên thiên đàng. Hỏi. Đức Chúa Trời có mấy ngôi?\\nThưa. Đức Chúa Trời có ba ngôi, Ngôi Nhất là Cha, Ngôi Hai là Con, Ngôi Ba là Thánh Thần. Hỏi. Ngôi Nhất là Cha có phải Đức Chúa Trời chăng? Thưa. Phải. Hỏi. Ngôi Hai là Con có phải Đức Chúa Trời chăng? Thưa. Phải. Hỏi. Ngôi Ba là Thánh Thân có phải Đức Chúa Trời chăng? Thưa. Phải. Hỏi. Nếu vậy có phải Ba Đức Chúa Trời chăng? Thưa. Chăng có, vì Ba Ngôi cũng một tính một phép. Vậy có một Đức Chúa Trời mà thôi.\\n\\nĐOAN THỨ HAI\\nHỏi. Trong Ba Ngôi có Ngôi nào ra đời chăng? Thưa. Ngôi Thứ Hai ra đời làm người có xác có linh hồn như ta vậy. Hỏi. Ngôi Thứ Hai ra đời lấy xác và linh hồn ở đâu? Thưa. Lấy xác và \\n'}]"
   ]
  },
  {
   "cell_type": "code",
   "execution_count": 8,
   "metadata": {},
   "outputs": [
    {
     "name": "stdout",
     "output_type": "stream",
     "text": [
      "[{'page_number': 10, 'content': [{'bbox': [[3220, 4184], [3375, 4184], [3375, 4672], [3220, 4672]], 'content': '百卄六', 'transliteration': 'bách niệm lục '}, {'bbox': [[2740, 963], [2910, 960], [2929, 4876], [2759, 4879]], 'content': '碎德主吞於代尼朱時徽特蓮天堂晦德主吞固氽嵬', 'transliteration': 'tôi đức chúa thôn ở đời này cho thời huy được lên thiên đường hối đức chúa thôn có mấy ngôi '}, {'bbox': [[2509, 1001], [2676, 997], [2698, 5031], [2532, 5034]], 'content': '疎德主吞固巴嵬嵬壹羅吒嵬台羅昆嵬巴羅聖神一晦嵬', 'transliteration': 'thưa đức chúa thôn có ba ngùi ngùi nhất là cha ngôi thay là con ngôi ba là thánh thần nhất hối ngôi '}, {'bbox': [[2283, 963], [2449, 960], [2457, 5023], [2286, 5027]], 'content': '壹羅吒固沛德主吞庄疎沛晦嵬年羅昆固沛德主吞', 'transliteration': 'nhất là cha có phải đức chúa thôn trang thơ phải hối ngôi niên là con có phải đức chúa thôn '}, {'bbox': [[2033, 963], [2203, 960], [2215, 5027], [2048, 5031]], 'content': '庄疎沛晦嵬巴羅聖神固沛德主吞庄疎沛晦裊', 'transliteration': 'chẳng thưa phải hối ngôi ba là thánh thần có phải đức chúa thôn trang thơ phải hối nẻo '}, {'bbox': [[1791, 960], [1961, 960], [1961, 5034], [1791, 5034]], 'content': '丕固沛巴德主坖庄疎庄固爲世嵬拱沒性沒法丕固沒', 'transliteration': 'vậy có phải ba đức chúa 坖 chẳng thưa chẳng có vì thế ngôi cũng một tính một pháp vậy có một '}, {'bbox': [[1557, 956], [1719, 956], [1719, 1814], [1557, 1814]], 'content': '德主吞麻崔', 'transliteration': 'đức chúa thôn mà thôi '}, {'bbox': [[1145, 2120], [1402, 2120], [1402, 3020], [1145, 3020]], 'content': '段次合', 'transliteration': 'đoạn thứ hợp '}, {'bbox': [[827, 5023], [835, 986], [1005, 990], [994, 5027]], 'content': '晦敵巴嵬固嵬芾岍代庄一疎嵬次的崢代濫得固壳固靈', 'transliteration': 'hối địch ba ngôi có ngôi nào khiên đời chẳng nhất thưa ngôi thứ đích tranh đời làm được có xác có linh '}, {'bbox': [[548, 5016], [563, 956], [729, 960], [714, 5019]], 'content': '魂如些丕一晦嵬次台岼代祕壳吧靈魂於兠一疎祕壳吧', 'transliteration': 'hồn như ta vậy nhất hối ngôi thứ thay 岼 đời bí xác và linh hồn ở đâu nhất thơ bí xác và '}]}, {'page_number': 11, 'content': [{'bbox': [[2910, 1908], [3171, 1908], [3171, 3466], [2910, 3466]], 'content': '本玳仍祕昆', 'transliteration': 'bản đồi những bí con '}, {'bbox': [[2543, 2218], [2789, 2218], [2789, 3129], [2543, 3129]], 'content': '段次壹', 'transliteration': 'đoạn thứ nhất '}, {'bbox': [[2264, 956], [2434, 956], [2434, 5053], [2264, 5053]], 'content': '晦德主坴羅等芾疎德主至羅等孕年吞坦閉物共恒僵', 'transliteration': 'hối đức chúa lục là đấng nào thưa đức chúa chí là đứng dựng niên thôn đất bấy vật cùng hằng cương '}, {'bbox': [[2014, 918], [2184, 918], [2184, 4868], [2014, 4868]], 'content': '件該治每事晦固殼德主埀庄疎固沒德主至麻崔', 'transliteration': 'kiện cai trị mọi sự hối có xác đức chúa 埀 chẳng thưa có một đức chúa chí mà thôi '}, {'bbox': [[1765, 5050], [1765, 956], [1939, 956], [1939, 5050]], 'content': '晦德主吞於兠疎德主吞於運吞酃坦於泣每坭晦德', 'transliteration': 'hối đức chúa thôn ở đâu thưa đức chúa thôn ở vận thôn linh đất ở khắp mọi nơi hối đức '}, {'bbox': [[1515, 918], [1689, 914], [1693, 5031], [1523, 5034]], 'content': '主蚕於泣每坭牢低些祜庄筧疎爲德主季羅性聲靈朱', 'transliteration': 'chúa tằm ở khắp mọi nơi sao đây ta hỗ chẳng kiển thưa vì đức chúa quý là tính thanh linh cho '}, {'bbox': [[1270, 922], [1443, 918], [1447, 5050], [1277, 5053]], 'content': '年昆相餂些祜庄賃晦固欺芮麻庄固德主吞庄疎德', 'transliteration': 'niên con tương điềm ta hỗ chẳng nhấm hối có khi nuôi mà chẳng có đức chúa thôn chẳng thưa đức '}, {'bbox': [[1028, 914], [1202, 910], [1213, 5038], [1039, 5042]], 'content': '主岙恒固畧撥無窮庄固包賖麻庄固德主坖晦德主吞', 'transliteration': 'chúa diệu hằng có lược bát vô cùng chẳng có bao xa mà chẳng có đức chúa 坖 hối đức chúa thôn '}, {'bbox': [[778, 918], [948, 914], [960, 5046], [793, 5050]], 'content': '孕年類得些固意芾疎固意朱得些別吧祿奉敬勉共濫', 'transliteration': 'dựng nên loài đắc ta có ý nào thơ có ý cho được ta biết và lộc phụng kính mến cùng làm '}, {'bbox': [[328, 1330], [483, 1330], [483, 2109], [328, 2109]], 'content': '聖教要理', 'transliteration': 'thánh giáo yếu lý '}, {'bbox': [[340, 4154], [487, 4154], [487, 4645], [340, 4645]], 'content': '百卄五', 'transliteration': 'bách nhập ngũ '}]}]\n"
     ]
    }
   ],
   "source": [
    "print(sn_content)"
   ]
  },
  {
   "cell_type": "code",
   "execution_count": 9,
   "metadata": {},
   "outputs": [
    {
     "name": "stdout",
     "output_type": "stream",
     "text": [
      "[{'page_number': 1, 'content': '— BỒN DẠY NHỮNG TRE CON.!\\n\\nĐOAN THỨ NHẤT\\n\\nHỏi. Đức Chúa Trời là Đấng nào? Thưa. Đức Chúa Trời là Đấng dựng nên trời đất muôn vật cùng hãng gìn giữ cai trị mọi sự. Hỏi. Có nhiều Đức Chúa Trời chăng? Thưa. Có một Đức Chúa Trời mà thôi.\\nHỏi. Đức Chúa Trời ở đâu? Thưa. Đức Chúa Trời ở trên trời dưới đất ở khắp mọi nơi. Hỏi. Đức Chúa Trời ở khắp mọi nơi sao đây ta xem chăng thấy? Thưa. Vì Đức Chúa Trời là tính thiêng liêng cho nên con mắt thịt ta xem chăng thấy. Hỏi. Có khi nào mà chắng có Đức Chúa Trời chăng? Thưa. Đức Chúa Trời hằng có trước sau vô cùng, chăng có bao giờ mà chăng có Đức Chúa Trời. Hỏi. Đức Chúa Trời dựng nên loài người ta có ý nào? Thưa. Có ý cho người ta biết và thò! phượng kính mến cùng làm.\\n\\nTHÁNH GIÁO YỂU LÝ - bách chập ngũ (125) \\n\\n1. Trích Thánh Giáo Yếu Lý, Kẻ Sở, 1933 - bản phiên âm của Nhóm Phiên Dịch Thuật Hán Nôm Công Giáo,  Lm. Vĩnh Sơn Nguyên Hưng chủ biên. 2. Chữ øìn trong mộc bản là chữ nhân + chữ gìn.\\n3. Chữ xem trong mộc bản là bộ kỳ + chữ xem. Đúng ra là bộ + chữ xem.\\n4. Chữ fhờ trong mộc bản là kỳ (thần) + (tôi, ta). Vì thiếu nên tạm dùng chữ fhờ  bộ (sâu bọ) + (tôi, ta).\\n'}, {'page_number': 2, 'content': 'Hỏi. Đức Chúa Trời ở đời này, cho ngày sau được lên thiên đàng. Hỏi. Đức Chúa Trời có mấy ngôi?\\nThưa. Đức Chúa Trời có ba ngôi, Ngôi Nhất là Cha, Ngôi Hai là Con, Ngôi Ba là Thánh Thần. Hỏi. Ngôi Nhất là Cha có phải Đức Chúa Trời chăng? Thưa. Phải. Hỏi. Ngôi Hai là Con có phải Đức Chúa Trời chăng? Thưa. Phải. Hỏi. Ngôi Ba là Thánh Thân có phải Đức Chúa Trời chăng? Thưa. Phải. Hỏi. Nếu vậy có phải Ba Đức Chúa Trời chăng? Thưa. Chăng có, vì Ba Ngôi cũng một tính một phép. Vậy có một Đức Chúa Trời mà thôi.\\n\\nĐOAN THỨ HAI\\nHỏi. Trong Ba Ngôi có Ngôi nào ra đời chăng? Thưa. Ngôi Thứ Hai ra đời làm người có xác có linh hồn như ta vậy. Hỏi. Ngôi Thứ Hai ra đời lấy xác và linh hồn ở đâu? Thưa. Lấy xác và \\n'}]\n"
     ]
    }
   ],
   "source": [
    "print(vn_content)"
   ]
  },
  {
   "cell_type": "code",
   "execution_count": 10,
   "metadata": {},
   "outputs": [],
   "source": [
    "sn2vn_content = list()\n",
    "for page in sn_content:\n",
    "    sn2vn_content.append({'page_number': page['page_number'], 'content': '\\n'.join([line['transliteration'] for line in page['content']])})\n",
    "    # align paragraphs\n",
    "paragraph_alignments = alignment.paragraph_alignment(sn2vn_content,vn_content)"
   ]
  },
  {
   "cell_type": "code",
   "execution_count": 11,
   "metadata": {},
   "outputs": [
    {
     "name": "stdout",
     "output_type": "stream",
     "text": [
      "[{'source_page_number': 0, 'source_text': 'bách niệm lục \\ntôi đức chúa thôn ở đời này cho thời huy được lên thiên đường hối đức chúa thôn có mấy ngôi \\nthưa đức chúa thôn có ba ngùi ngùi nhất là cha ngôi thay là con ngôi ba là thánh thần nhất hối ngôi \\nnhất là cha có phải đức chúa thôn trang thơ phải hối ngôi niên là con có phải đức chúa thôn \\nchẳng thưa phải hối ngôi ba là thánh thần có phải đức chúa thôn trang thơ phải hối nẻo \\nvậy có phải ba đức chúa 坖 chẳng thưa chẳng có vì thế ngôi cũng một tính một pháp vậy có một \\nđức chúa thôn mà thôi \\nđoạn thứ hợp \\nhối địch ba ngôi có ngôi nào khiên đời chẳng nhất thưa ngôi thứ đích tranh đời làm được có xác có linh \\nhồn như ta vậy nhất hối ngôi thứ thay 岼 đời bí xác và linh hồn ở đâu nhất thơ bí xác và ', 'target_page_number': 1, 'target_text': 'Hỏi. Đức Chúa Trời ở đời này, cho ngày sau được lên thiên đàng. Hỏi. Đức Chúa Trời có mấy ngôi?\\nThưa. Đức Chúa Trời có ba ngôi, Ngôi Nhất là Cha, Ngôi Hai là Con, Ngôi Ba là Thánh Thần. Hỏi. Ngôi Nhất là Cha có phải Đức Chúa Trời chăng? Thưa. Phải. Hỏi. Ngôi Hai là Con có phải Đức Chúa Trời chăng? Thưa. Phải. Hỏi. Ngôi Ba là Thánh Thân có phải Đức Chúa Trời chăng? Thưa. Phải. Hỏi. Nếu vậy có phải Ba Đức Chúa Trời chăng? Thưa. Chăng có, vì Ba Ngôi cũng một tính một phép. Vậy có một Đức Chúa Trời mà thôi.\\n\\nĐOAN THỨ HAI\\nHỏi. Trong Ba Ngôi có Ngôi nào ra đời chăng? Thưa. Ngôi Thứ Hai ra đời làm người có xác có linh hồn như ta vậy. Hỏi. Ngôi Thứ Hai ra đời lấy xác và linh hồn ở đâu? Thưa. Lấy xác và \\n', 'similarity_score': 0.9169042110443115}, {'source_page_number': 1, 'source_text': 'bản đồi những bí con \\nđoạn thứ nhất \\nhối đức chúa lục là đấng nào thưa đức chúa chí là đứng dựng niên thôn đất bấy vật cùng hằng cương \\nkiện cai trị mọi sự hối có xác đức chúa 埀 chẳng thưa có một đức chúa chí mà thôi \\nhối đức chúa thôn ở đâu thưa đức chúa thôn ở vận thôn linh đất ở khắp mọi nơi hối đức \\nchúa tằm ở khắp mọi nơi sao đây ta hỗ chẳng kiển thưa vì đức chúa quý là tính thanh linh cho \\nniên con tương điềm ta hỗ chẳng nhấm hối có khi nuôi mà chẳng có đức chúa thôn chẳng thưa đức \\nchúa diệu hằng có lược bát vô cùng chẳng có bao xa mà chẳng có đức chúa 坖 hối đức chúa thôn \\ndựng nên loài đắc ta có ý nào thơ có ý cho được ta biết và lộc phụng kính mến cùng làm \\nthánh giáo yếu lý \\nbách nhập ngũ ', 'target_page_number': 0, 'target_text': '— BỒN DẠY NHỮNG TRE CON.!\\n\\nĐOAN THỨ NHẤT\\n\\nHỏi. Đức Chúa Trời là Đấng nào? Thưa. Đức Chúa Trời là Đấng dựng nên trời đất muôn vật cùng hãng gìn giữ cai trị mọi sự. Hỏi. Có nhiều Đức Chúa Trời chăng? Thưa. Có một Đức Chúa Trời mà thôi.\\nHỏi. Đức Chúa Trời ở đâu? Thưa. Đức Chúa Trời ở trên trời dưới đất ở khắp mọi nơi. Hỏi. Đức Chúa Trời ở khắp mọi nơi sao đây ta xem chăng thấy? Thưa. Vì Đức Chúa Trời là tính thiêng liêng cho nên con mắt thịt ta xem chăng thấy. Hỏi. Có khi nào mà chắng có Đức Chúa Trời chăng? Thưa. Đức Chúa Trời hằng có trước sau vô cùng, chăng có bao giờ mà chăng có Đức Chúa Trời. Hỏi. Đức Chúa Trời dựng nên loài người ta có ý nào? Thưa. Có ý cho người ta biết và thò! phượng kính mến cùng làm.\\n\\nTHÁNH GIÁO YỂU LÝ - bách chập ngũ (125) \\n\\n1. Trích Thánh Giáo Yếu Lý, Kẻ Sở, 1933 - bản phiên âm của Nhóm Phiên Dịch Thuật Hán Nôm Công Giáo,  Lm. Vĩnh Sơn Nguyên Hưng chủ biên. 2. Chữ øìn trong mộc bản là chữ nhân + chữ gìn.\\n3. Chữ xem trong mộc bản là bộ kỳ + chữ xem. Đúng ra là bộ + chữ xem.\\n4. Chữ fhờ trong mộc bản là kỳ (thần) + (tôi, ta). Vì thiếu nên tạm dùng chữ fhờ  bộ (sâu bọ) + (tôi, ta).\\n', 'similarity_score': 0.9017960429191589}]\n"
     ]
    }
   ],
   "source": [
    "print(paragraph_alignments)\n"
   ]
  },
  {
   "cell_type": "code",
   "execution_count": 18,
   "metadata": {},
   "outputs": [],
   "source": [
    "os.chdir('../')"
   ]
  },
  {
   "cell_type": "code",
   "execution_count": 18,
   "metadata": {},
   "outputs": [
    {
     "name": "stdout",
     "output_type": "stream",
     "text": [
      "Running: ./align.sh\n"
     ]
    },
    {
     "name": "stderr",
     "output_type": "stream",
     "text": [
      "../../LASER/tasks/embed/embed.sh: 64: [[: not found\n"
     ]
    },
    {
     "name": "stdout",
     "output_type": "stream",
     "text": [
      "2025-01-07 15:28:37,792 | INFO | embed | spm_model: /mnt/d/LASER//laser2.spm\n",
      "2025-01-07 15:28:37,792 | INFO | embed | spm_cvocab: /mnt/d/LASER/laser2.cvocab\n",
      "2025-01-07 15:28:37,792 | INFO | embed | loading encoder: /mnt/d/LASER//laser2.pt\n",
      "2025-01-07 15:28:39,525 | INFO | embed | transfer encoder to GPU\n",
      "2025-01-07 15:28:40,870 | INFO | preprocess | SPM processing overlaps.tr  \n",
      "2025-01-07 15:28:41,081 | INFO | embed | encoding /tmp/tmpgonj1s_e/spm to ../data/overlaps.tr.emb\n",
      "2025-01-07 15:28:41,350 | INFO | embed | encoded 53 sentences in 0s\n"
     ]
    },
    {
     "name": "stderr",
     "output_type": "stream",
     "text": [
      "../../LASER/tasks/embed/embed.sh: 64: [[: not found\n"
     ]
    },
    {
     "name": "stdout",
     "output_type": "stream",
     "text": [
      "2025-01-07 15:28:44,950 | INFO | embed | spm_model: /mnt/d/LASER//laser2.spm\n",
      "2025-01-07 15:28:44,951 | INFO | embed | spm_cvocab: /mnt/d/LASER/laser2.cvocab\n",
      "2025-01-07 15:28:44,951 | INFO | embed | loading encoder: /mnt/d/LASER//laser2.pt\n",
      "2025-01-07 15:28:46,617 | INFO | embed | transfer encoder to GPU\n",
      "2025-01-07 15:28:47,956 | INFO | preprocess | SPM processing overlaps.vn  \n",
      "2025-01-07 15:28:48,292 | INFO | embed | encoding /tmp/tmp7ydu1d3z/spm to ../data/overlaps.vn.emb\n",
      "2025-01-07 15:28:48,469 | INFO | embed | encoded 16 sentences in 0s\n"
     ]
    },
    {
     "name": "stderr",
     "output_type": "stream",
     "text": [
      "/mnt/d/multimodal_alignments/sentence_alignments/dp_utils.py:675: RuntimeWarning: invalid value encountered in cast\n",
      "  stack[depth]['a_b_costs'], stack[depth]['b_offset'] = make_sparse_costs(stack[depth]['v0'], stack[depth]['v1'],\n"
     ]
    },
    {
     "name": "stdout",
     "output_type": "stream",
     "text": [
      "Running: ./align.sh\n"
     ]
    },
    {
     "name": "stderr",
     "output_type": "stream",
     "text": [
      "../../LASER/tasks/embed/embed.sh: 64: [[: not found\n"
     ]
    },
    {
     "name": "stdout",
     "output_type": "stream",
     "text": [
      "2025-01-07 15:28:53,505 | INFO | embed | spm_model: /mnt/d/LASER//laser2.spm\n",
      "2025-01-07 15:28:53,505 | INFO | embed | spm_cvocab: /mnt/d/LASER/laser2.cvocab\n",
      "2025-01-07 15:28:53,505 | INFO | embed | loading encoder: /mnt/d/LASER//laser2.pt\n",
      "2025-01-07 15:28:55,131 | INFO | embed | transfer encoder to GPU\n",
      "2025-01-07 15:28:56,736 | INFO | preprocess | SPM processing overlaps.tr  \n",
      "2025-01-07 15:28:56,935 | INFO | embed | encoding /tmp/tmpyz81dt08/spm to ../data/overlaps.tr.emb\n",
      "2025-01-07 15:28:57,267 | INFO | embed | encoded 61 sentences in 0s\n"
     ]
    },
    {
     "name": "stderr",
     "output_type": "stream",
     "text": [
      "../../LASER/tasks/embed/embed.sh: 64: [[: not found\n"
     ]
    },
    {
     "name": "stdout",
     "output_type": "stream",
     "text": [
      "2025-01-07 15:29:01,029 | INFO | embed | spm_model: /mnt/d/LASER//laser2.spm\n",
      "2025-01-07 15:29:01,030 | INFO | embed | spm_cvocab: /mnt/d/LASER/laser2.cvocab\n",
      "2025-01-07 15:29:01,030 | INFO | embed | loading encoder: /mnt/d/LASER//laser2.pt\n",
      "2025-01-07 15:29:02,699 | INFO | embed | transfer encoder to GPU\n",
      "2025-01-07 15:29:04,129 | INFO | preprocess | SPM processing overlaps.vn  \n",
      "2025-01-07 15:29:04,344 | INFO | embed | encoding /tmp/tmpe6efj324/spm to ../data/overlaps.vn.emb\n",
      "2025-01-07 15:29:04,853 | INFO | embed | encoded 66 sentences in 0s\n"
     ]
    },
    {
     "name": "stderr",
     "output_type": "stream",
     "text": [
      "/mnt/d/multimodal_alignments/sentence_alignments/dp_utils.py:675: RuntimeWarning: invalid value encountered in cast\n",
      "  stack[depth]['a_b_costs'], stack[depth]['b_offset'] = make_sparse_costs(stack[depth]['v0'], stack[depth]['v1'],\n"
     ]
    }
   ],
   "source": [
    "result = list()\n",
    "for idx, alignment in enumerate(paragraph_alignments):\n",
    "    src_id = alignment['source_page_number']\n",
    "    tgt_id = alignment['target_page_number']\n",
    "    path_temp_file_sn2vn = os.path.join('data', \"test.tr\")\n",
    "    path_temp_file_vn = os.path.join('data', \"test.vn\")\n",
    "    with open(path_temp_file_sn2vn, \"w\", encoding=\"utf-8\") as f:\n",
    "        f.write(sn2vn_content[src_id]['content'])\n",
    "    with open(path_temp_file_vn, \"w\", encoding=\"utf-8\") as f:\n",
    "        f.write(vn_content[tgt_id]['content'])\n",
    "    os.chdir('./sentence_alignments')\n",
    "    script = './align.sh' \n",
    "    print(f\"Running: {script}\")\n",
    "    os.system(script)\n",
    "    os.chdir('../')\n",
    "    with open('data/output.txt','r',encoding='utf-8') as f:\n",
    "            alignments=''.join(f.readlines()).split('\\n')\n",
    "    for i in range(len(alignments)-1):\n",
    "            x = eval(alignments[i].split(':')[0])\n",
    "            y = eval(alignments[i].split(':')[1])\n",
    "            src_lines = [line['content'] for line in sn_content[src_id]['content']]\n",
    "            tgt_lines = vn_content[tgt_id]['content'].split('\\n')\n",
    "            if len(x)>0 and len(y)>0:\n",
    "                src_line = ''.join([src_lines[j] for j in x])\n",
    "                tgt_line = ' '.join([tgt_lines[j] for j in y])\n",
    "            result.append([src_line,tgt_line])"
   ]
  },
  {
   "cell_type": "code",
   "execution_count": 19,
   "metadata": {},
   "outputs": [
    {
     "name": "stdout",
     "output_type": "stream",
     "text": [
      "['百卄六碎德主吞於代尼朱時徽特蓮天堂晦德主吞固氽嵬', 'Hỏi. Đức Chúa Trời ở đời này, cho ngày sau được lên thiên đàng. Hỏi. Đức Chúa Trời có mấy ngôi?']\n",
      "['疎德主吞固巴嵬嵬壹羅吒嵬台羅昆嵬巴羅聖神一晦嵬壹羅吒固沛德主吞庄疎沛晦嵬年羅昆固沛德主吞庄疎沛晦嵬巴羅聖神固沛德主吞庄疎沛晦裊丕固沛巴德主坖庄疎庄固爲世嵬拱沒性沒法丕固沒德主吞麻崔段次合晦敵巴嵬固嵬芾岍代庄一疎嵬次的崢代濫得固壳固靈', 'Thưa. Đức Chúa Trời có ba ngôi, Ngôi Nhất là Cha, Ngôi Hai là Con, Ngôi Ba là Thánh Thần. Hỏi. Ngôi Nhất là Cha có phải Đức Chúa Trời chăng? Thưa. Phải. Hỏi. Ngôi Hai là Con có phải Đức Chúa Trời chăng? Thưa. Phải. Hỏi. Ngôi Ba là Thánh Thân có phải Đức Chúa Trời chăng? Thưa. Phải. Hỏi. Nếu vậy có phải Ba Đức Chúa Trời chăng? Thưa. Chăng có, vì Ba Ngôi cũng một tính một phép. Vậy có một Đức Chúa Trời mà thôi.']\n",
      "['魂如些丕一晦嵬次台岼代祕壳吧靈魂於兠一疎祕壳吧', ' ĐOAN THỨ HAI Hỏi. Trong Ba Ngôi có Ngôi nào ra đời chăng? Thưa. Ngôi Thứ Hai ra đời làm người có xác có linh hồn như ta vậy. Hỏi. Ngôi Thứ Hai ra đời lấy xác và linh hồn ở đâu? Thưa. Lấy xác và ']\n",
      "['本玳仍祕昆', '— BỒN DẠY NHỮNG TRE CON.!']\n",
      "['本玳仍祕昆', '— BỒN DẠY NHỮNG TRE CON.!']\n",
      "['段次壹', 'ĐOAN THỨ NHẤT']\n",
      "['段次壹', 'ĐOAN THỨ NHẤT']\n",
      "['晦德主坴羅等芾疎德主至羅等孕年吞坦閉物共恒僵件該治每事晦固殼德主埀庄疎固沒德主至麻崔', 'Hỏi. Đức Chúa Trời là Đấng nào? Thưa. Đức Chúa Trời là Đấng dựng nên trời đất muôn vật cùng hãng gìn giữ cai trị mọi sự. Hỏi. Có nhiều Đức Chúa Trời chăng? Thưa. Có một Đức Chúa Trời mà thôi.']\n",
      "['晦德主吞於兠疎德主吞於運吞酃坦於泣每坭晦德主蚕於泣每坭牢低些祜庄筧疎爲德主季羅性聲靈朱年昆相餂些祜庄賃晦固欺芮麻庄固德主吞庄疎德主岙恒固畧撥無窮庄固包賖麻庄固德主坖晦德主吞孕年類得些固意芾疎固意朱得些別吧祿奉敬勉共濫', 'Hỏi. Đức Chúa Trời ở đâu? Thưa. Đức Chúa Trời ở trên trời dưới đất ở khắp mọi nơi. Hỏi. Đức Chúa Trời ở khắp mọi nơi sao đây ta xem chăng thấy? Thưa. Vì Đức Chúa Trời là tính thiêng liêng cho nên con mắt thịt ta xem chăng thấy. Hỏi. Có khi nào mà chắng có Đức Chúa Trời chăng? Thưa. Đức Chúa Trời hằng có trước sau vô cùng, chăng có bao giờ mà chăng có Đức Chúa Trời. Hỏi. Đức Chúa Trời dựng nên loài người ta có ý nào? Thưa. Có ý cho người ta biết và thò! phượng kính mến cùng làm.']\n",
      "['聖教要理', '']\n",
      "['聖教要理', '']\n",
      "['百卄五', '']\n",
      "['百卄五', '']\n",
      "['百卄五', '']\n",
      "['百卄五', '']\n"
     ]
    }
   ],
   "source": [
    "for r in result:\n",
    "    print(r)"
   ]
  },
  {
   "cell_type": "code",
   "execution_count": 20,
   "metadata": {},
   "outputs": [
    {
     "name": "stderr",
     "output_type": "stream",
     "text": [
      "rm: cannot remove './data/images_viet': No such file or directory\n"
     ]
    },
    {
     "ename": "ImportError",
     "evalue": "partition_image() is not available because one or more dependencies are not installed. Use: pip install \"unstructured[image]\" (including quotes) to install the required dependencies",
     "output_type": "error",
     "traceback": [
      "\u001b[0;31m---------------------------------------------------------------------------\u001b[0m",
      "\u001b[0;31mImportError\u001b[0m                               Traceback (most recent call last)",
      "Cell \u001b[0;32mIn[20], line 14\u001b[0m\n\u001b[1;32m     12\u001b[0m image_path \u001b[38;5;241m=\u001b[39m os\u001b[38;5;241m.\u001b[39mpath\u001b[38;5;241m.\u001b[39mjoin(output_folder, \u001b[38;5;124mf\u001b[39m\u001b[38;5;124m\"\u001b[39m\u001b[38;5;124mpage_\u001b[39m\u001b[38;5;132;01m{\u001b[39;00mi\u001b[38;5;241m+\u001b[39m\u001b[38;5;241m1\u001b[39m\u001b[38;5;132;01m}\u001b[39;00m\u001b[38;5;124m.png\u001b[39m\u001b[38;5;124m\"\u001b[39m)  \u001b[38;5;66;03m# Save as PNG\u001b[39;00m\n\u001b[1;32m     13\u001b[0m page\u001b[38;5;241m.\u001b[39msave(image_path, \u001b[38;5;124m'\u001b[39m\u001b[38;5;124mPNG\u001b[39m\u001b[38;5;124m'\u001b[39m)\n\u001b[0;32m---> 14\u001b[0m elements \u001b[38;5;241m=\u001b[39m \u001b[43mpartition\u001b[49m\u001b[43m(\u001b[49m\u001b[43mimage_path\u001b[49m\u001b[43m,\u001b[49m\u001b[43m \u001b[49m\u001b[43mlanguages\u001b[49m\u001b[38;5;241;43m=\u001b[39;49m\u001b[43m[\u001b[49m\u001b[38;5;124;43m'\u001b[39;49m\u001b[38;5;124;43mvie\u001b[39;49m\u001b[38;5;124;43m'\u001b[39;49m\u001b[43m]\u001b[49m\u001b[43m)\u001b[49m  \u001b[38;5;66;03m# 'vie' is for Vietnamese\u001b[39;00m\n\u001b[1;32m     15\u001b[0m \u001b[38;5;28mprint\u001b[39m(\u001b[38;5;124m\"\u001b[39m\u001b[38;5;130;01m\\n\u001b[39;00m\u001b[38;5;124m\"\u001b[39m\u001b[38;5;241m.\u001b[39mjoin([\u001b[38;5;28mstr\u001b[39m(el) \u001b[38;5;28;01mfor\u001b[39;00m el \u001b[38;5;129;01min\u001b[39;00m elements]))\n\u001b[1;32m     16\u001b[0m page_content \u001b[38;5;241m=\u001b[39m {\u001b[38;5;124m'\u001b[39m\u001b[38;5;124mpage_number\u001b[39m\u001b[38;5;124m'\u001b[39m: i\u001b[38;5;241m+\u001b[39m\u001b[38;5;241m1\u001b[39m, \u001b[38;5;124m'\u001b[39m\u001b[38;5;124mcontent\u001b[39m\u001b[38;5;124m'\u001b[39m:\u001b[38;5;124m\"\u001b[39m\u001b[38;5;130;01m\\n\u001b[39;00m\u001b[38;5;124m\"\u001b[39m\u001b[38;5;241m.\u001b[39mjoin([\u001b[38;5;28mstr\u001b[39m(el) \u001b[38;5;28;01mfor\u001b[39;00m el \u001b[38;5;129;01min\u001b[39;00m elements])}\n",
      "File \u001b[0;32m~/anaconda3/envs/mm_align/lib/python3.10/site-packages/unstructured/partition/auto.py:221\u001b[0m, in \u001b[0;36mpartition\u001b[0;34m(filename, file, encoding, content_type, url, headers, ssl_verify, request_timeout, strategy, skip_infer_table_types, ocr_languages, languages, detect_language_per_element, pdf_infer_table_structure, extract_images_in_pdf, extract_image_block_types, extract_image_block_output_dir, extract_image_block_to_payload, data_source_metadata, metadata_filename, hi_res_model_name, model_name, starting_page_number, **kwargs)\u001b[0m\n\u001b[1;32m    218\u001b[0m     \u001b[38;5;28;01mreturn\u001b[39;00m augment_metadata(elements)\n\u001b[1;32m    220\u001b[0m \u001b[38;5;28;01mif\u001b[39;00m file_type\u001b[38;5;241m.\u001b[39mpartitioner_shortname \u001b[38;5;241m==\u001b[39m \u001b[38;5;124m\"\u001b[39m\u001b[38;5;124mimage\u001b[39m\u001b[38;5;124m\"\u001b[39m:\n\u001b[0;32m--> 221\u001b[0m     partition_image \u001b[38;5;241m=\u001b[39m \u001b[43mpartitioner_loader\u001b[49m\u001b[38;5;241;43m.\u001b[39;49m\u001b[43mget\u001b[49m\u001b[43m(\u001b[49m\u001b[43mfile_type\u001b[49m\u001b[43m)\u001b[49m\n\u001b[1;32m    222\u001b[0m     elements \u001b[38;5;241m=\u001b[39m partition_image(\n\u001b[1;32m    223\u001b[0m         filename\u001b[38;5;241m=\u001b[39mfilename,\n\u001b[1;32m    224\u001b[0m         file\u001b[38;5;241m=\u001b[39mfile,\n\u001b[0;32m   (...)\u001b[0m\n\u001b[1;32m    235\u001b[0m         \u001b[38;5;241m*\u001b[39m\u001b[38;5;241m*\u001b[39mkwargs,\n\u001b[1;32m    236\u001b[0m     )\n\u001b[1;32m    237\u001b[0m     \u001b[38;5;28;01mreturn\u001b[39;00m augment_metadata(elements)\n",
      "File \u001b[0;32m~/anaconda3/envs/mm_align/lib/python3.10/site-packages/unstructured/partition/auto.py:351\u001b[0m, in \u001b[0;36m_PartitionerLoader.get\u001b[0;34m(self, file_type)\u001b[0m\n\u001b[1;32m    348\u001b[0m \u001b[38;5;66;03m# -- if the partitioner is not in the cache, load it; note this raises if one or more of\u001b[39;00m\n\u001b[1;32m    349\u001b[0m \u001b[38;5;66;03m# -- the partitioner's dependencies is not installed.\u001b[39;00m\n\u001b[1;32m    350\u001b[0m \u001b[38;5;28;01mif\u001b[39;00m file_type \u001b[38;5;129;01mnot\u001b[39;00m \u001b[38;5;129;01min\u001b[39;00m \u001b[38;5;28mself\u001b[39m\u001b[38;5;241m.\u001b[39m_partitioners:\n\u001b[0;32m--> 351\u001b[0m     \u001b[38;5;28mself\u001b[39m\u001b[38;5;241m.\u001b[39m_partitioners[file_type] \u001b[38;5;241m=\u001b[39m \u001b[38;5;28;43mself\u001b[39;49m\u001b[38;5;241;43m.\u001b[39;49m\u001b[43m_load_partitioner\u001b[49m\u001b[43m(\u001b[49m\u001b[43mfile_type\u001b[49m\u001b[43m)\u001b[49m\n\u001b[1;32m    353\u001b[0m \u001b[38;5;28;01mreturn\u001b[39;00m \u001b[38;5;28mself\u001b[39m\u001b[38;5;241m.\u001b[39m_partitioners[file_type]\n",
      "File \u001b[0;32m~/anaconda3/envs/mm_align/lib/python3.10/site-packages/unstructured/partition/auto.py:360\u001b[0m, in \u001b[0;36m_PartitionerLoader._load_partitioner\u001b[0;34m(self, file_type)\u001b[0m\n\u001b[1;32m    358\u001b[0m \u001b[38;5;28;01mfor\u001b[39;00m pkg_name \u001b[38;5;129;01min\u001b[39;00m file_type\u001b[38;5;241m.\u001b[39mimportable_package_dependencies:\n\u001b[1;32m    359\u001b[0m     \u001b[38;5;28;01mif\u001b[39;00m \u001b[38;5;129;01mnot\u001b[39;00m dependency_exists(pkg_name):\n\u001b[0;32m--> 360\u001b[0m         \u001b[38;5;28;01mraise\u001b[39;00m \u001b[38;5;167;01mImportError\u001b[39;00m(\n\u001b[1;32m    361\u001b[0m             \u001b[38;5;124mf\u001b[39m\u001b[38;5;124m\"\u001b[39m\u001b[38;5;132;01m{\u001b[39;00mfile_type\u001b[38;5;241m.\u001b[39mpartitioner_function_name\u001b[38;5;132;01m}\u001b[39;00m\u001b[38;5;124m() is not available because one or\u001b[39m\u001b[38;5;124m\"\u001b[39m\n\u001b[1;32m    362\u001b[0m             \u001b[38;5;124mf\u001b[39m\u001b[38;5;124m\"\u001b[39m\u001b[38;5;124m more dependencies are not installed. Use:\u001b[39m\u001b[38;5;124m\"\u001b[39m\n\u001b[1;32m    363\u001b[0m             \u001b[38;5;124mf\u001b[39m\u001b[38;5;124m'\u001b[39m\u001b[38;5;124m pip install \u001b[39m\u001b[38;5;124m\"\u001b[39m\u001b[38;5;124munstructured[\u001b[39m\u001b[38;5;132;01m{\u001b[39;00mfile_type\u001b[38;5;241m.\u001b[39mextra_name\u001b[38;5;132;01m}\u001b[39;00m\u001b[38;5;124m]\u001b[39m\u001b[38;5;124m\"\u001b[39m\u001b[38;5;124m (including quotes)\u001b[39m\u001b[38;5;124m'\u001b[39m\n\u001b[1;32m    364\u001b[0m             \u001b[38;5;124mf\u001b[39m\u001b[38;5;124m\"\u001b[39m\u001b[38;5;124m to install the required dependencies\u001b[39m\u001b[38;5;124m\"\u001b[39m,\n\u001b[1;32m    365\u001b[0m         )\n\u001b[1;32m    367\u001b[0m \u001b[38;5;66;03m# -- load the partitioner and return it --\u001b[39;00m\n\u001b[1;32m    368\u001b[0m \u001b[38;5;28;01massert\u001b[39;00m file_type\u001b[38;5;241m.\u001b[39mis_partitionable  \u001b[38;5;66;03m# -- would be a programming error if this failed --\u001b[39;00m\n",
      "\u001b[0;31mImportError\u001b[0m: partition_image() is not available because one or more dependencies are not installed. Use: pip install \"unstructured[image]\" (including quotes) to install the required dependencies"
     ]
    }
   ],
   "source": [
    "from unstructured.partition.auto import partition\n",
    "from pdf2image import convert_from_path\n",
    "import shutil\n",
    "pages = convert_from_path('data/vn.pdf', 600)  # 300 DPI for better quality\n",
    "pdf_content = list()\n",
    "os.system('rm -r ./data/images_viet')\n",
    "output_folder='./data/images_viet'\n",
    "os.makedirs(output_folder)\n",
    "\n",
    "# Save each page as an image\n",
    "for i, page in enumerate(pages):\n",
    "    image_path = os.path.join(output_folder, f\"page_{i+1}.png\")  # Save as PNG\n",
    "    page.save(image_path, 'PNG')\n",
    "    elements = partition(image_path, languages=['vie'])  # 'vie' is for Vietnamese\n",
    "    print(\"\\n\".join([str(el) for el in elements]))\n",
    "    page_content = {'page_number': i+1, 'content':\"\\n\".join([str(el) for el in elements])}\n",
    "    pdf_content.append(page_content)\n",
    "shutil.rmtree(output_folder)"
   ]
  }
 ],
 "metadata": {
  "kernelspec": {
   "display_name": "mm_align",
   "language": "python",
   "name": "python3"
  },
  "language_info": {
   "codemirror_mode": {
    "name": "ipython",
    "version": 3
   },
   "file_extension": ".py",
   "mimetype": "text/x-python",
   "name": "python",
   "nbconvert_exporter": "python",
   "pygments_lexer": "ipython3",
   "version": "3.11.0"
  }
 },
 "nbformat": 4,
 "nbformat_minor": 2
}
